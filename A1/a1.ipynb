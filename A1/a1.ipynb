{
 "cells": [
  {
   "cell_type": "code",
   "execution_count": 1,
   "metadata": {},
   "outputs": [
    {
     "name": "stdout",
     "output_type": "stream",
     "text": [
      "/Users/stephxtchan/ECO421/A1\r\n"
     ]
    }
   ],
   "source": [
    "# import libraries in jupyter notebook environment\n",
    "import openpyxl\n",
    "import pandas as pd #pd is linked to module: pandas\n",
    "import math\n",
    "import numpy as np #np is linked to module: numpy\n",
    "import os\n",
    "\n",
    "\n",
    "# print the current working directory\n",
    "!pwd\n"
   ]
  },
  {
   "cell_type": "code",
   "execution_count": 2,
   "metadata": {},
   "outputs": [],
   "source": [
    "# read the portfolio value excel file and store the values under the name xls\n",
    "xls = pd.ExcelFile('/Users/stephxtchan/ECO421/A1/PortfolioValue2020Feb03-2022Jan31.xlsx')\n",
    "\n",
    "# read the xls file and import the ValueList spreadsheet and store the values under the name value_list\n",
    "value_list = pd.read_excel(xls, sheet_name = 'ValueList')\n"
   ]
  },
  {
   "cell_type": "code",
   "execution_count": 3,
   "metadata": {},
   "outputs": [],
   "source": [
    "# store the portfolio value into variable named values\n",
    "max_row=len(value_list) # find the total number of rows in ValueList\n",
    "values=[] # creat an empty list called values\n",
    "for row in range(0, max_row): # use for loop to add each portfolio value into the list \"values\"\n",
    "    values.append(float(value_list.loc[row][1])) "
   ]
  },
  {
   "cell_type": "code",
   "execution_count": 4,
   "metadata": {},
   "outputs": [],
   "source": [
    "# Define a function that finds the sortedloss(k)\n",
    "\n",
    "def sortedloss(N):  # N is the user input of Time Horizon in days\n",
    "    \n",
    "    # Define the variables needed in the calculation\n",
    "    m = len(values) # let m be the total number of portfolio values\n",
    "    n = math.floor((m-1)/N) # let n be the largest k such that n*N <= m-1\n",
    "\n",
    "    \n",
    "    # Define the portfolio scenario as scenerio, known as S(k)\n",
    "    # S(k) = V(k*N), where as V(k*N) is the k*N-th portfolio value, k = 0, 1, 2,..., n\n",
    "    # Base Scenario S(0) is the first portfolio value V(0)\n",
    "    scenerio = []\n",
    "    for k in range(0, n+1):\n",
    "        scenerio.append(float(values[k*N]))\n",
    "    \n",
    "    # Define portfolio loss as loss\n",
    "    # loss(k) = S(0) - S(k), k = 1, 2,..., n\n",
    "    loss = []\n",
    "    for k in range(1, n+1):\n",
    "        loss.append(float(scenerio[0] - scenerio[k]))\n",
    "    \n",
    "    # Sort list \"loss\" in ascending order by using numpy, define as sortedloss\n",
    "    sortedloss = np.sort(loss)\n",
    "    \n",
    "            \n",
    "    return sortedloss"
   ]
  },
  {
   "cell_type": "code",
   "execution_count": 5,
   "metadata": {},
   "outputs": [],
   "source": [
    "# Define a function that finds the VaR and print the results\n",
    "\n",
    "def var(sortedloss, x): # x% is the user input of confidence Level\n",
    "    \n",
    "    m = len(values) # let m be the total number of portfolio values\n",
    "    n = math.floor((m-1)/N) # let n be the largest k such that n*N <= m-1\n",
    "    w = int((x/100) * n) # let w be floor x% * n \n",
    "    \n",
    "    # Convert sortedloss into a list\n",
    "    sortedloss = sortedloss.tolist()\n",
    "    \n",
    "    # Define x% N-day VaR = sortedloss(w)\n",
    "    VaR = sortedloss[w - 1] # since the index of the w-th loss is w-1\n",
    "    \n",
    "    # add VaR to the list \"sortedloss\"\n",
    "    sortedloss.append(VaR)\n",
    "\n",
    "    # Write the sortedloss and VaR into the excel spreadsheet \"Scenario\"\n",
    "    with pd.ExcelWriter('/Users/stephxtchan/ECO421/A1/PortfolioValue2020Feb03-2022Jan31.xlsx',\n",
    "                        engine = \"openpyxl\", mode = \"a\", if_sheet_exists = \"replace\") as writer:\n",
    "        pd.DataFrame(sortedloss).to_excel(writer, sheet_name = 'Scenario', index = False, header = False)\n",
    "    \n",
    "    return VaR\n",
    "    \n",
    "\n",
    "# Note that if my export method did not overwrite the original Scenario sheet, please update panda to the newest version\n",
    "# Panda update code: !pip3 install --upgrade pandas \n",
    "# Please update panda before runing this and the next chunk"
   ]
  },
  {
   "cell_type": "code",
   "execution_count": 6,
   "metadata": {},
   "outputs": [
    {
     "name": "stdout",
     "output_type": "stream",
     "text": [
      "Enter Time Horizon N in days (put only interger values): 5\n",
      "Enter Confidence Level x in percentage (do not put % sign): 95\n",
      "The 95.0% 5-Day VaR is 11481.420000000002\n"
     ]
    }
   ],
   "source": [
    "# Create user input of Time Horizon(N) in days\n",
    "N = int(input('Enter Time Horizon N in days (put only interger values): '))\n",
    "# Note that 0 < N < 10\n",
    "if N > 10:\n",
    "    print(\"Time Horizon input is not valid\")\n",
    "elif N < 0:\n",
    "    print(\"Time Horizon input is not valid\")\n",
    "else:\n",
    "    sortedloss(N)\n",
    "    \n",
    "# Create user input of Condfidence Level \n",
    "x = float(input('Enter Confidence Level x in percentage (do not put % sign): '))\n",
    "\n",
    "# Note that 90% < x < 100%\n",
    "if x > 100:\n",
    "    print(\"Confidence Level input is not valid\")\n",
    "elif x < 90:\n",
    "    print(\"Confidence Level input is not valid\")\n",
    "else:\n",
    "    var(sortedloss(N), x)\n",
    "    print(\"The \" + str(x) + \"% \" + str(N) + \"-Day VaR is \" + str(var(sortedloss(N), x))) \n"
   ]
  },
  {
   "cell_type": "code",
   "execution_count": null,
   "metadata": {},
   "outputs": [],
   "source": [
    "\n"
   ]
  },
  {
   "cell_type": "markdown",
   "metadata": {},
   "source": [
    "##### "
   ]
  }
 ],
 "metadata": {
  "kernelspec": {
   "display_name": "Python 3",
   "language": "python",
   "name": "python3"
  },
  "language_info": {
   "codemirror_mode": {
    "name": "ipython",
    "version": 3
   },
   "file_extension": ".py",
   "mimetype": "text/x-python",
   "name": "python",
   "nbconvert_exporter": "python",
   "pygments_lexer": "ipython3",
   "version": "3.8.5"
  }
 },
 "nbformat": 4,
 "nbformat_minor": 4
}

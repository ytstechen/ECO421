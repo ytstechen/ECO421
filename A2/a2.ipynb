{
 "cells": [
  {
   "cell_type": "code",
   "execution_count": 2,
   "metadata": {},
   "outputs": [],
   "source": [
    "# import libraries and modules in jupyter notebook environment\n",
    "from datetime import datetime\n",
    "from datetime import date\n",
    "import pandas as pd #pd is linked to module: pandas\n",
    "import math\n",
    "import numpy as np #np is linked to module: numpy\n",
    "from tabulate import tabulate\n",
    "import corefunctions as co\n",
    "import bondmodule630 as bd\n",
    "import alm_module as alm\n",
    "import fxmodule as fx\n",
    "\n",
    "# if cannot find tabulate, please add this at the beginning of the chunk: pip install tabulate"
   ]
  },
  {
   "cell_type": "markdown",
   "metadata": {},
   "source": [
    "# Loading Excel File and Data Cleaning"
   ]
  },
  {
   "cell_type": "code",
   "execution_count": 3,
   "metadata": {},
   "outputs": [],
   "source": [
    "# use !pwd to print the current working directory"
   ]
  },
  {
   "cell_type": "code",
   "execution_count": 4,
   "metadata": {},
   "outputs": [],
   "source": [
    "# read the termsheets excel file and store the values under the name xls\n",
    "xls = pd.ExcelFile('/Users/stephxtchan/ECO421/A2/termsheets.xlsx')"
   ]
  },
  {
   "cell_type": "code",
   "execution_count": 5,
   "metadata": {},
   "outputs": [],
   "source": [
    "# Define session date as 2022-03-18\n",
    "session_date = date(2022, 3, 18)"
   ]
  },
  {
   "cell_type": "code",
   "execution_count": 6,
   "metadata": {},
   "outputs": [
    {
     "name": "stderr",
     "output_type": "stream",
     "text": [
      "/Users/stephxtchan/opt/anaconda3/lib/python3.8/site-packages/openpyxl/worksheet/_reader.py:300: UserWarning: Data Validation extension is not supported and will be removed\n",
      "  warn(msg)\n",
      "/Users/stephxtchan/opt/anaconda3/lib/python3.8/site-packages/openpyxl/worksheet/_reader.py:300: UserWarning: Data Validation extension is not supported and will be removed\n",
      "  warn(msg)\n",
      "/Users/stephxtchan/opt/anaconda3/lib/python3.8/site-packages/openpyxl/worksheet/_reader.py:300: UserWarning: Data Validation extension is not supported and will be removed\n",
      "  warn(msg)\n"
     ]
    }
   ],
   "source": [
    "# read the xls file and import the BS1, BS2, BS3 spreadsheet, convert Asset and Liability columns to string\n",
    "bs_1_df = pd.read_excel(xls, sheet_name = 'BS1', converters = {'Asset:': str, 'Liability:': str})\n",
    "bs_2_df = pd.read_excel(xls, sheet_name = 'BS2', converters = {'Asset:': str, 'Liability:': str})\n",
    "bs_3_df = pd.read_excel(xls, sheet_name = 'BS3', converters = {'Asset:': str, 'Liability:': str})"
   ]
  },
  {
   "cell_type": "code",
   "execution_count": 7,
   "metadata": {},
   "outputs": [],
   "source": [
    "# read the xls file and import the bondmkt spreadsheet and store the values under the name bondmkt_df\n",
    "bondmkt_df = pd.read_excel(xls, sheet_name = 'bondmkt')"
   ]
  },
  {
   "cell_type": "markdown",
   "metadata": {},
   "source": [
    "# Load Assets and Liabilities in BS1, BS2 and BS3"
   ]
  },
  {
   "cell_type": "code",
   "execution_count": 8,
   "metadata": {},
   "outputs": [],
   "source": [
    "# create two new dictionaries that stores the value of Asset and Liability for BS1\n",
    "asset_1 = {}\n",
    "liability_1 = {}\n",
    "\n",
    "i = 0\n",
    "for id in bs_1_df['Asset:']:\n",
    "    if str(id) != 'nan':\n",
    "        asset_1[str(id)] = bs_1_df['Units'][i]\n",
    "        i+=1\n",
    "    \n",
    "i = 0\n",
    "for id in bs_1_df['Liability:']:\n",
    "    if str(id) != 'nan':\n",
    "        liability_1[str(id)] = bs_1_df['Units.1'][i]\n",
    "        i+=1"
   ]
  },
  {
   "cell_type": "code",
   "execution_count": 9,
   "metadata": {},
   "outputs": [],
   "source": [
    "# create two new dictionaries that stores the value of Asset and Liability for BS2\n",
    "asset_2 = {}\n",
    "liability_2 = {}\n",
    "\n",
    "i = 0\n",
    "for id in bs_2_df['Asset:']:\n",
    "    if str(id) != 'nan':\n",
    "        asset_2[str(id)] = bs_2_df['Units'][i]\n",
    "        i+=1\n",
    "    \n",
    "i = 0\n",
    "for id in bs_2_df['Liability:']:\n",
    "    if str(id) != 'nan':\n",
    "        liability_2[str(id)] = bs_2_df['Units.1'][i]\n",
    "        i+=1"
   ]
  },
  {
   "cell_type": "code",
   "execution_count": 10,
   "metadata": {},
   "outputs": [],
   "source": [
    "# create two new dictionaries that stores the value of Asset and Liability for BS3\n",
    "asset_3 = {}\n",
    "liability_3 = {}\n",
    "\n",
    "i = 0\n",
    "for id in bs_3_df['Asset:']:\n",
    "    if str(id) != 'nan':\n",
    "        asset_3[str(id)] = bs_3_df['Units'][i]\n",
    "        i+=1\n",
    "    \n",
    "i = 0\n",
    "for id in bs_3_df['Liability:']:\n",
    "    if str(id) != 'nan':\n",
    "        liability_3[str(id)] = bs_3_df['Units.1'][i]\n",
    "        i+=1"
   ]
  },
  {
   "cell_type": "markdown",
   "metadata": {},
   "source": [
    "# Loading the k-th Scenerio\n"
   ]
  },
  {
   "cell_type": "code",
   "execution_count": 12,
   "metadata": {},
   "outputs": [
    {
     "name": "stdout",
     "output_type": "stream",
     "text": [
      "Input n-th row of scenarios: from 1=base to last row =77: 2\n"
     ]
    }
   ],
   "source": [
    "# Read the Scenerio spreadsheet\n",
    "scen_df = pd.read_excel(xls, sheet_name='Scenario')\n",
    "\n",
    "max_row = scen_df.shape[0]\n",
    "kth_scen_dict = {}\n",
    "row = int(input(f'Input n-th row of scenarios: from 1=base to last row ={max_row}: '))\n",
    "for key in scen_df.columns:\n",
    "    kth_scen_dict[key] = scen_df[key][row]"
   ]
  },
  {
   "cell_type": "markdown",
   "metadata": {},
   "source": [
    "# Loading simulation time \"t_sim\""
   ]
  },
  {
   "cell_type": "code",
   "execution_count": 13,
   "metadata": {},
   "outputs": [],
   "source": [
    "# Read the Data spreadsheet\n",
    "data_df =  pd.read_excel(xls, sheet_name = 'Data')\n",
    "\n",
    "# export tsim from the Data spreadsheet\n",
    "max_row=len(data_df)\n",
    "t_sim = []\n",
    "for row in range(0, max_row):\n",
    "    t_sim.append(datetime.date(datetime.strptime(str(data_df.loc[row][0]), '%Y-%m-%d %H:%M:%S')))"
   ]
  },
  {
   "cell_type": "code",
   "execution_count": 14,
   "metadata": {},
   "outputs": [],
   "source": [
    "# Define n as the time period from session date to each tsim \n",
    "n = []\n",
    "len_t = len(t_sim)\n",
    "\n",
    "for i in range(0, len_t):\n",
    "    n.append(t_sim[i] - session_date)"
   ]
  },
  {
   "cell_type": "code",
   "execution_count": 15,
   "metadata": {},
   "outputs": [
    {
     "name": "stdout",
     "output_type": "stream",
     "text": [
      "[datetime.timedelta(0), datetime.timedelta(days=30), datetime.timedelta(days=60), datetime.timedelta(days=90), datetime.timedelta(days=120), datetime.timedelta(days=150), datetime.timedelta(days=180), datetime.timedelta(days=210), datetime.timedelta(days=240), datetime.timedelta(days=270)]\n"
     ]
    }
   ],
   "source": [
    "# print n\n",
    "print(n)"
   ]
  },
  {
   "cell_type": "code",
   "execution_count": 16,
   "metadata": {},
   "outputs": [],
   "source": [
    "# restore n as a list contain only integer values\n",
    "# Create a user input for the time term\n",
    "n = [0, 30, 60, 90, 120, 150, 180, 210, 240, 270]"
   ]
  },
  {
   "cell_type": "markdown",
   "metadata": {},
   "source": [
    "# Loading the Currency List for Each Bonds "
   ]
  },
  {
   "cell_type": "code",
   "execution_count": 17,
   "metadata": {},
   "outputs": [],
   "source": [
    "# Create a list of currencies used for each bonds in sheet bondmkt\n",
    "currency_list = np.array(bondmkt_df['CURR_DESC'])\n",
    "currency_list = str(np.unique(currency_list))"
   ]
  },
  {
   "cell_type": "code",
   "execution_count": 18,
   "metadata": {},
   "outputs": [],
   "source": [
    "# Create a disctionary that links currencies used for each bonds with bond id\n",
    "from_curr = {}\n",
    "i = 0\n",
    "for id in bondmkt_df['ISSUE_ID']:\n",
    "    if str(id) != 'nan':\n",
    "            from_curr[str(id)] = bondmkt_df['CURR_DESC'][i]\n",
    "            i += 1"
   ]
  },
  {
   "cell_type": "markdown",
   "metadata": {},
   "source": [
    "# Q1. Find Duration Gap of BS1, BS2 and BS3"
   ]
  },
  {
   "cell_type": "markdown",
   "metadata": {},
   "source": [
    "## Duration Gap of Balance Sheet 1"
   ]
  },
  {
   "cell_type": "markdown",
   "metadata": {},
   "source": [
    "### Set the Base Currency"
   ]
  },
  {
   "cell_type": "code",
   "execution_count": 27,
   "metadata": {},
   "outputs": [],
   "source": [
    "# Set to_curr as the base currency used in BS1\n",
    "# Define the terms used in fxmodule\n",
    "to_curr_1 = \"USD\"\n",
    "t1 = session_date\n",
    "csv_df = pd.read_csv('/Users/stephxtchan/ECO421/A2/SpotFXFile.csv')\n",
    "fx_obj = fx.FXClass(csv_df)"
   ]
  },
  {
   "cell_type": "markdown",
   "metadata": {},
   "source": [
    "### Calculate the Duration Gap for Each tsim"
   ]
  },
  {
   "cell_type": "code",
   "execution_count": 28,
   "metadata": {
    "collapsed": true
   },
   "outputs": [
    {
     "name": "stdout",
     "output_type": "stream",
     "text": [
      "dfy=0 is zero, exit\n",
      "bond value v=0 is <=0, exit\n",
      "dfy=0 is zero, exit\n",
      "bond value v=0 is <=0, exit\n",
      "dfy=0 is zero, exit\n",
      "bond value v=0 is <=0, exit\n",
      "dfy=0 is zero, exit\n",
      "bond value v=0 is <=0, exit\n",
      "dfy=0 is zero, exit\n",
      "bond value v=0 is <=0, exit\n",
      "dfy=0 is zero, exit\n",
      "bond value v=0 is <=0, exit\n",
      "dfy=0 is zero, exit\n",
      "bond value v=0 is <=0, exit\n",
      "dfy=0 is zero, exit\n",
      "bond value v=0 is <=0, exit\n",
      "dfy=0 is zero, exit\n",
      "bond value v=0 is <=0, exit\n",
      "dfy=0 is zero, exit\n",
      "bond value v=0 is <=0, exit\n",
      "dfy=0 is zero, exit\n",
      "bond value v=0 is <=0, exit\n",
      "dfy=0 is zero, exit\n",
      "bond value v=0 is <=0, exit\n",
      "dfy=0 is zero, exit\n",
      "bond value v=0 is <=0, exit\n",
      "dfy=0 is zero, exit\n",
      "bond value v=0 is <=0, exit\n",
      "dfy=0 is zero, exit\n",
      "bond value v=0 is <=0, exit\n",
      "dfy=0 is zero, exit\n",
      "bond value v=0 is <=0, exit\n",
      "dfy=0 is zero, exit\n",
      "bond value v=0 is <=0, exit\n",
      "dfy=0 is zero, exit\n",
      "bond value v=0 is <=0, exit\n",
      "dfy=0 is zero, exit\n",
      "bond value v=0 is <=0, exit\n",
      "dfy=0 is zero, exit\n",
      "bond value v=0 is <=0, exit\n",
      "dfy=0 is zero, exit\n",
      "bond value v=0 is <=0, exit\n",
      "dfy=0 is zero, exit\n",
      "bond value v=0 is <=0, exit\n",
      "dfy=0 is zero, exit\n",
      "bond value v=0 is <=0, exit\n",
      "dfy=0 is zero, exit\n",
      "bond value v=0 is <=0, exit\n"
     ]
    }
   ],
   "source": [
    "duration_gap = []\n",
    "#since there are some major errors to run corefunction for tsim = 2022-09-14\n",
    "#Professor Yang states that we can exclude 2022-09-14 and the tsim beyond this date in our calculation\n",
    "for i in range(0, 6): \n",
    "    \n",
    "    # Create a dictionary that links each bonds' asset values with bond id for bonds in BS1\n",
    "    asset_value_1 = {}\n",
    "    for id in asset_1:\n",
    "        bond_obj = bd.BondClass(id, 'bondmkt', xls)\n",
    "        bond_obj.position_unit = asset_1[id]\n",
    "        # find the foreign exchange rate for each bonds' currency to the base currency, which is USD in BS1\n",
    "        fx_rate = fx_obj.spot_fx(from_curr[id], to_curr_1)\n",
    "        bond_obj.state_procedure()\n",
    "        \n",
    "        # find each asset values in USD\n",
    "        asset_value_1[id]= bond_obj.theo_value_scen(n[i], scen_df, row) * fx_rate\n",
    "        \n",
    "        # calculate the total market value of assets\n",
    "        sum_asset_value_1 = sum(asset_value_1.values())\n",
    "        \n",
    "    # Create a dictionary that links each bonds' liability values with bond id for bonds in BS1\n",
    "    liability_value_1 = {}\n",
    "    for id in liability_1:\n",
    "        bond_obj = bd.BondClass(id, 'bondmkt', xls)\n",
    "        bond_obj.position_unit = liability_1[id]\n",
    "        bond_obj.state_procedure()\n",
    "        \n",
    "        # find the foreign exchange rate for each bonds' currency to the base currency, which is USD in BS1\n",
    "        fx_rate = fx_obj.spot_fx(from_curr[id], to_curr_1)\n",
    "        \n",
    "        # find each liability values in USD\n",
    "        liability_value_1[id]= bond_obj.theo_value_scen(n[i], scen_df, row) * fx_rate\n",
    "        \n",
    "    # calculate the total market value of liabilities\n",
    "    sum_liability_value_1 = sum(liability_value_1.values())\n",
    "    \n",
    "    # create a dictionary that stores the asset duration\n",
    "    dur_asset = {}\n",
    "    for id in asset_1:\n",
    "        bond_obj = bd.BondClass(id, 'bondmkt', xls)\n",
    "        bond_obj.position_unit = asset_1[id]\n",
    "        dur_asset[id] = alm.modified_duration(co.add_terms(session_date, n[i], \"days\"), bond_obj, kth_scen_dict)\n",
    "\n",
    "    # create a dictionary that stores the liability duration\n",
    "    dur_liab = {}\n",
    "    for id in liability_1:\n",
    "        bond_obj = bd.BondClass(id, 'bondmkt', xls)\n",
    "        bond_obj.position_unit = liability_1[id]\n",
    "        dur_liab[id]= alm.modified_duration(co.add_terms(session_date, n[i], \"days\"), bond_obj, kth_scen_dict)\n",
    "\n",
    "    # create a dictionary that stores the market value of the ith position divided by total market value of assets\n",
    "    asset_weighted_duration = {}\n",
    "    for id in asset_value_1:\n",
    "        if str(dur_asset[id]) != 'nan':\n",
    "            asset_weighted_duration[id] = dur_asset[id] * asset_value_1[id] / sum_asset_value_1\n",
    "        else:\n",
    "            asset_weighted_duration[id] = 0\n",
    "                \n",
    "    # Find the duration of total asset\n",
    "    asset_duration = sum(asset_weighted_duration.values())\n",
    "    \n",
    "    # create a dictionary that stores the market value of the ith position divided by total market value of liabilities\n",
    "    liab_weighted_duration = {}\n",
    "    for id in liability_1:\n",
    "        if str(dur_liab[id]) != \"nan\":\n",
    "            liab_weighted_duration[id] = dur_liab[id] * liability_value_1[id] / sum_liability_value_1\n",
    "        else:\n",
    "            liab_weighted_duration[id] = 0\n",
    "            \n",
    "    # find the duration of total liability\n",
    "    liability_duration = sum(liab_weighted_duration.values())\n",
    "    \n",
    "    # find The Duration Gap and store the value to duration_gap list\n",
    "    duration_gap.append(asset_duration - (sum_liability_value_1/sum_asset_value_1) * liability_duration)"
   ]
  },
  {
   "cell_type": "markdown",
   "metadata": {},
   "source": [
    "### Results of Duration Gap of Balance Sheet 1 at Each tsim"
   ]
  },
  {
   "cell_type": "code",
   "execution_count": 29,
   "metadata": {},
   "outputs": [
    {
     "name": "stdout",
     "output_type": "stream",
     "text": [
      "The Duration Gap of Balance Sheet 1 (base currency: USD) at 2022-03-18 is -1.5486071703342517\n",
      "The Duration Gap of Balance Sheet 1 (base currency: USD) at 2022-04-17 is -1.6196062071156074\n",
      "The Duration Gap of Balance Sheet 1 (base currency: USD) at 2022-05-17 is -1.941770773605029\n",
      "The Duration Gap of Balance Sheet 1 (base currency: USD) at 2022-06-16 is -1.9430133262929155\n",
      "The Duration Gap of Balance Sheet 1 (base currency: USD) at 2022-07-16 is -1.9552204110449947\n",
      "The Duration Gap of Balance Sheet 1 (base currency: USD) at 2022-08-15 is -1.9108460689116298\n"
     ]
    }
   ],
   "source": [
    "# print out the result of DGap\n",
    "print('The Duration Gap of Balance Sheet 1 (base currency: USD) at 2022-03-18 is ' + str(duration_gap[0]))\n",
    "print('The Duration Gap of Balance Sheet 1 (base currency: USD) at 2022-04-17 is ' + str(duration_gap[1]))\n",
    "print('The Duration Gap of Balance Sheet 1 (base currency: USD) at 2022-05-17 is ' + str(duration_gap[2]))\n",
    "print('The Duration Gap of Balance Sheet 1 (base currency: USD) at 2022-06-16 is ' + str(duration_gap[3]))\n",
    "print('The Duration Gap of Balance Sheet 1 (base currency: USD) at 2022-07-16 is ' + str(duration_gap[4]))\n",
    "print('The Duration Gap of Balance Sheet 1 (base currency: USD) at 2022-08-15 is ' + str(duration_gap[5]))"
   ]
  },
  {
   "cell_type": "code",
   "execution_count": 31,
   "metadata": {},
   "outputs": [],
   "source": [
    "# Create a table for the result\n",
    "# Define Each cell of the rows\n",
    "row_1 = ['tsim', 'Balance Sheet', 'Currency', 'Scenerio', 'Duration Gap']\n",
    "row_2 = ['2022-03-18', 'BS1', 'USD', 'Base', str(duration_gap[0])]\n",
    "row_3 = ['2022-04-17', 'BS1', 'USD', 'Base', str(duration_gap[1])]\n",
    "row_4 = ['2022-05-17', 'BS1', 'USD', 'Base', str(duration_gap[2])]\n",
    "row_5 = ['2022-06-16', 'BS1', 'USD', 'Base', str(duration_gap[3])]\n",
    "row_6 = ['2022-07-16', 'BS1', 'USD', 'Base', str(duration_gap[4])]\n",
    "row_7 = ['2022-08-15', 'BS1', 'USD', 'Base', str(duration_gap[5])]\n",
    "\n",
    "\n",
    "# Put the rows into a table, where table here is a list of lists\n",
    "table_1 = [row_1, row_2, row_3, row_4, row_5, row_6, row_7]"
   ]
  },
  {
   "cell_type": "code",
   "execution_count": 32,
   "metadata": {},
   "outputs": [
    {
     "name": "stdout",
     "output_type": "stream",
     "text": [
      "╒════════════╤═════════════════╤════════════╤════════════╤════════════════╕\n",
      "│ tsim       │ Balance Sheet   │ Currency   │ Scenerio   │   Duration Gap │\n",
      "╞════════════╪═════════════════╪════════════╪════════════╪════════════════╡\n",
      "│ 2022-03-18 │ BS1             │ USD        │ Base       │       -1.54861 │\n",
      "├────────────┼─────────────────┼────────────┼────────────┼────────────────┤\n",
      "│ 2022-04-17 │ BS1             │ USD        │ Base       │       -1.61961 │\n",
      "├────────────┼─────────────────┼────────────┼────────────┼────────────────┤\n",
      "│ 2022-05-17 │ BS1             │ USD        │ Base       │       -1.94177 │\n",
      "├────────────┼─────────────────┼────────────┼────────────┼────────────────┤\n",
      "│ 2022-06-16 │ BS1             │ USD        │ Base       │       -1.94301 │\n",
      "├────────────┼─────────────────┼────────────┼────────────┼────────────────┤\n",
      "│ 2022-07-16 │ BS1             │ USD        │ Base       │       -1.95522 │\n",
      "├────────────┼─────────────────┼────────────┼────────────┼────────────────┤\n",
      "│ 2022-08-15 │ BS1             │ USD        │ Base       │       -1.91085 │\n",
      "╘════════════╧═════════════════╧════════════╧════════════╧════════════════╛\n"
     ]
    }
   ],
   "source": [
    "# Print the table\n",
    "print(tabulate(table_1, headers='firstrow', tablefmt='fancy_grid'))"
   ]
  },
  {
   "cell_type": "markdown",
   "metadata": {},
   "source": [
    "## Duration Gap of Balance Sheet 2"
   ]
  },
  {
   "cell_type": "markdown",
   "metadata": {},
   "source": [
    "### Set the Base Currency"
   ]
  },
  {
   "cell_type": "code",
   "execution_count": 19,
   "metadata": {},
   "outputs": [],
   "source": [
    "# Set to_curr as the base currency used in BS2\n",
    "# Define the terms used in fxmodule\n",
    "to_curr_2 = \"CAD\"\n",
    "t1 = session_date\n",
    "csv_df = pd.read_csv('/Users/stephxtchan/ECO421/A2/SpotFXFile.csv')\n",
    "fx_obj = fx.FXClass(csv_df)"
   ]
  },
  {
   "cell_type": "markdown",
   "metadata": {},
   "source": [
    "### Calculate the Duration Gap for Each tsim"
   ]
  },
  {
   "cell_type": "code",
   "execution_count": 20,
   "metadata": {
    "collapsed": true
   },
   "outputs": [
    {
     "name": "stdout",
     "output_type": "stream",
     "text": [
      "dfy=0 is zero, exit\n",
      "bond value v=0 is <=0, exit\n",
      "dfy=0 is zero, exit\n",
      "bond value v=0 is <=0, exit\n",
      "dfy=0 is zero, exit\n",
      "bond value v=0 is <=0, exit\n",
      "dfy=0 is zero, exit\n",
      "bond value v=0 is <=0, exit\n",
      "dfy=0 is zero, exit\n",
      "bond value v=0 is <=0, exit\n",
      "dfy=0 is zero, exit\n",
      "bond value v=0 is <=0, exit\n",
      "dfy=0 is zero, exit\n",
      "bond value v=0 is <=0, exit\n",
      "dfy=0 is zero, exit\n",
      "bond value v=0 is <=0, exit\n",
      "dfy=0 is zero, exit\n",
      "bond value v=0 is <=0, exit\n",
      "dfy=0 is zero, exit\n",
      "bond value v=0 is <=0, exit\n",
      "dfy=0 is zero, exit\n",
      "bond value v=0 is <=0, exit\n",
      "dfy=0 is zero, exit\n",
      "bond value v=0 is <=0, exit\n",
      "dfy=0 is zero, exit\n",
      "bond value v=0 is <=0, exit\n",
      "dfy=0 is zero, exit\n",
      "bond value v=0 is <=0, exit\n",
      "dfy=0 is zero, exit\n",
      "bond value v=0 is <=0, exit\n",
      "dfy=0 is zero, exit\n",
      "bond value v=0 is <=0, exit\n",
      "dfy=0 is zero, exit\n",
      "bond value v=0 is <=0, exit\n",
      "dfy=0 is zero, exit\n",
      "bond value v=0 is <=0, exit\n",
      "dfy=0 is zero, exit\n",
      "bond value v=0 is <=0, exit\n",
      "dfy=0 is zero, exit\n",
      "bond value v=0 is <=0, exit\n",
      "dfy=0 is zero, exit\n",
      "bond value v=0 is <=0, exit\n",
      "dfy=0 is zero, exit\n",
      "bond value v=0 is <=0, exit\n",
      "dfy=0 is zero, exit\n",
      "bond value v=0 is <=0, exit\n",
      "dfy=0 is zero, exit\n",
      "bond value v=0 is <=0, exit\n",
      "dfy=0 is zero, exit\n",
      "bond value v=0 is <=0, exit\n",
      "dfy=0 is zero, exit\n",
      "bond value v=0 is <=0, exit\n",
      "dfy=0 is zero, exit\n",
      "bond value v=0 is <=0, exit\n",
      "dfy=0 is zero, exit\n",
      "bond value v=0 is <=0, exit\n",
      "dfy=0 is zero, exit\n",
      "bond value v=0 is <=0, exit\n",
      "dfy=0 is zero, exit\n",
      "bond value v=0 is <=0, exit\n",
      "dfy=0 is zero, exit\n",
      "bond value v=0 is <=0, exit\n",
      "dfy=0 is zero, exit\n",
      "bond value v=0 is <=0, exit\n",
      "dfy=0 is zero, exit\n",
      "bond value v=0 is <=0, exit\n",
      "dfy=0 is zero, exit\n",
      "bond value v=0 is <=0, exit\n",
      "dfy=0 is zero, exit\n",
      "bond value v=0 is <=0, exit\n",
      "dfy=0 is zero, exit\n",
      "bond value v=0 is <=0, exit\n",
      "dfy=0 is zero, exit\n",
      "bond value v=0 is <=0, exit\n",
      "dfy=0 is zero, exit\n",
      "bond value v=0 is <=0, exit\n",
      "dfy=0 is zero, exit\n",
      "bond value v=0 is <=0, exit\n",
      "dfy=0 is zero, exit\n",
      "bond value v=0 is <=0, exit\n",
      "dfy=0 is zero, exit\n",
      "bond value v=0 is <=0, exit\n",
      "dfy=0 is zero, exit\n",
      "bond value v=0 is <=0, exit\n",
      "dfy=0 is zero, exit\n",
      "bond value v=0 is <=0, exit\n",
      "dfy=0 is zero, exit\n",
      "bond value v=0 is <=0, exit\n",
      "dfy=0 is zero, exit\n",
      "bond value v=0 is <=0, exit\n",
      "dfy=0 is zero, exit\n",
      "bond value v=0 is <=0, exit\n",
      "dfy=0 is zero, exit\n",
      "bond value v=0 is <=0, exit\n",
      "dfy=0 is zero, exit\n",
      "bond value v=0 is <=0, exit\n"
     ]
    }
   ],
   "source": [
    "duration_gap_2 = []\n",
    "m = len(n)\n",
    "for i in range(0, m): \n",
    "    \n",
    "    # Create a dictionary that links each bonds' asset values with bond id for bonds in BS2\n",
    "    asset_value_2 = {}\n",
    "    for id in asset_2:\n",
    "        bond_obj = bd.BondClass(id, 'bondmkt', xls)\n",
    "        bond_obj.position_unit = asset_2[id]\n",
    "        # find the foreign exchange rate for each bonds' currency to the base currency, which is CAD in BS2\n",
    "        fx_rate = fx_obj.spot_fx(from_curr[id], to_curr_2)\n",
    "        bond_obj.state_procedure()\n",
    "        \n",
    "        # find each asset values in CAD\n",
    "        asset_value_2[id]= bond_obj.theo_value_scen(n[i], scen_df, row) * fx_rate\n",
    "        \n",
    "        # calculate the total market value of assets\n",
    "        sum_asset_value_2 = sum(asset_value_2.values())\n",
    "        \n",
    "    # Create a dictionary that links each bonds' liability values with bond id for bonds in BS2\n",
    "    liability_value_2 = {}\n",
    "    for id in liability_2:\n",
    "        bond_obj = bd.BondClass(id, 'bondmkt', xls)\n",
    "        bond_obj.position_unit = liability_2[id]\n",
    "        bond_obj.state_procedure()\n",
    "        \n",
    "        # find the foreign exchange rate for each bonds' currency to the base currency, which is CAD in BS2\n",
    "        fx_rate = fx_obj.spot_fx(from_curr[id], to_curr_2)\n",
    "        \n",
    "        # find each liability values in CAD\n",
    "        liability_value_2[id]= bond_obj.theo_value_scen(n[i], scen_df, row) * fx_rate\n",
    "        \n",
    "    # calculate the total market value of liabilities\n",
    "    sum_liability_value_2 = sum(liability_value_2.values())\n",
    "    \n",
    "    # create a dictionary that stores the asset duration\n",
    "    dur_asset_2 = {}\n",
    "    for id in asset_2:\n",
    "        bond_obj = bd.BondClass(id, 'bondmkt', xls)\n",
    "        bond_obj.position_unit = asset_2[id]\n",
    "        dur_asset_2[id] = alm.modified_duration(co.add_terms(session_date, n[i], \"days\"), bond_obj, kth_scen_dict)\n",
    "\n",
    "    # create a dictionary that stores the liability duration\n",
    "    dur_liab_2 = {}\n",
    "    for id in liability_2:\n",
    "        bond_obj = bd.BondClass(id, 'bondmkt', xls)\n",
    "        bond_obj.position_unit = liability_2[id]\n",
    "        dur_liab_2[id]= alm.modified_duration(co.add_terms(session_date, n[i], \"days\"), bond_obj, kth_scen_dict)\n",
    "\n",
    "    # create a dictionary that stores the market value of the ith position divided by total market value of assets\n",
    "    asset_weighted_duration_2 = {}\n",
    "    for id in asset_value_2:\n",
    "        if str(dur_asset_2[id]) != 'nan':\n",
    "            asset_weighted_duration_2[id] = dur_asset_2[id] * asset_value_2[id] / sum_asset_value_2\n",
    "        else:\n",
    "            asset_weighted_duration_2[id] = 0\n",
    "                \n",
    "    # Find the duration of total asset\n",
    "    asset_duration_2 = sum(asset_weighted_duration_2.values())\n",
    "    \n",
    "    # create a dictionary that stores the market value of the ith position divided by total market value of liabilities\n",
    "    liab_weighted_duration_2 = {}\n",
    "    for id in liability_2:\n",
    "        if str(dur_liab_2[id]) != \"nan\":\n",
    "            liab_weighted_duration_2[id] = dur_liab_2[id] * liability_value_2[id] / sum_liability_value_2\n",
    "        else:\n",
    "            liab_weighted_duration_2[id] = 0\n",
    "            \n",
    "    # find the duration of total liability\n",
    "    liability_duration_2 = sum(liab_weighted_duration_2.values())\n",
    "    \n",
    "    # find The Duration Gap and store the value to duration_gap_2 list\n",
    "    duration_gap_2.append(asset_duration_2 - (sum_liability_value_2/sum_asset_value_2) * liability_duration_2)"
   ]
  },
  {
   "cell_type": "markdown",
   "metadata": {},
   "source": [
    "### Results of Duration Gap of Balance Sheet 2 at Each tsim"
   ]
  },
  {
   "cell_type": "code",
   "execution_count": 21,
   "metadata": {},
   "outputs": [
    {
     "name": "stdout",
     "output_type": "stream",
     "text": [
      "The Duration Gap of Balance Sheet 2 (base currency: CAD) at 2022-03-18 is 1.7630619513439925\n",
      "The Duration Gap of Balance Sheet 2 (base currency: CAD) at 2022-04-17 is 1.8262104579591232\n",
      "The Duration Gap of Balance Sheet 2 (base currency: CAD) at 2022-05-17 is 1.7611379729656236\n",
      "The Duration Gap of Balance Sheet 2 (base currency: CAD) at 2022-06-16 is 1.7216756479551083\n",
      "The Duration Gap of Balance Sheet 2 (base currency: CAD) at 2022-07-16 is 1.685055571321828\n",
      "The Duration Gap of Balance Sheet 2 (base currency: CAD) at 2022-08-15 is 1.636839743041396\n",
      "The Duration Gap of Balance Sheet 2 (base currency: CAD) at 2022-09-14 is 1.6267775889003662\n",
      "The Duration Gap of Balance Sheet 2 (base currency: CAD) at 2022-10-14 is 1.5943651236365537\n",
      "The Duration Gap of Balance Sheet 2 (base currency: CAD) at 2022-11-13 is 1.540382327914353\n",
      "The Duration Gap of Balance Sheet 2 (base currency: CAD) at 2022-12-13 is 1.4943480289789925\n"
     ]
    }
   ],
   "source": [
    "# Print out the results of duration gap of BS2\n",
    "print('The Duration Gap of Balance Sheet 2 (base currency: CAD) at 2022-03-18 is ' + str(duration_gap_2[0]))\n",
    "print('The Duration Gap of Balance Sheet 2 (base currency: CAD) at 2022-04-17 is ' + str(duration_gap_2[1]))\n",
    "print('The Duration Gap of Balance Sheet 2 (base currency: CAD) at 2022-05-17 is ' + str(duration_gap_2[2]))\n",
    "print('The Duration Gap of Balance Sheet 2 (base currency: CAD) at 2022-06-16 is ' + str(duration_gap_2[3]))\n",
    "print('The Duration Gap of Balance Sheet 2 (base currency: CAD) at 2022-07-16 is ' + str(duration_gap_2[4]))\n",
    "print('The Duration Gap of Balance Sheet 2 (base currency: CAD) at 2022-08-15 is ' + str(duration_gap_2[5]))\n",
    "print('The Duration Gap of Balance Sheet 2 (base currency: CAD) at 2022-09-14 is ' + str(duration_gap_2[6]))\n",
    "print('The Duration Gap of Balance Sheet 2 (base currency: CAD) at 2022-10-14 is ' + str(duration_gap_2[7]))\n",
    "print('The Duration Gap of Balance Sheet 2 (base currency: CAD) at 2022-11-13 is ' + str(duration_gap_2[8]))\n",
    "print('The Duration Gap of Balance Sheet 2 (base currency: CAD) at 2022-12-13 is ' + str(duration_gap_2[9]))"
   ]
  },
  {
   "cell_type": "code",
   "execution_count": 23,
   "metadata": {},
   "outputs": [],
   "source": [
    "# Create a table for the result\n",
    "# Define Each cell of the rows\n",
    "row_1 = ['tsim', 'Balance Sheet', 'Currency', 'Scenerio', 'Duration Gap']\n",
    "row_2 = ['2022-03-18', 'BS2', 'CAD', 'Base', str(duration_gap_2[0])]\n",
    "row_3 = ['2022-04-17', 'BS2', 'CAD', 'Base', str(duration_gap_2[1])]\n",
    "row_4 = ['2022-05-17', 'BS2', 'CAD', 'Base', str(duration_gap_2[2])]\n",
    "row_5 = ['2022-06-16', 'BS2', 'CAD', 'Base', str(duration_gap_2[3])]\n",
    "row_6 = ['2022-07-16', 'BS2', 'CAD', 'Base', str(duration_gap_2[4])]\n",
    "row_7 = ['2022-08-15', 'BS2', 'CAD', 'Base', str(duration_gap_2[5])]\n",
    "row_8 = ['2022-09-14', 'BS2', 'CAD', 'Base', str(duration_gap_2[6])]\n",
    "row_9 = ['2022-10-14', 'BS2', 'CAD', 'Base', str(duration_gap_2[7])]\n",
    "row_10 = ['2022-11-13', 'BS2', 'CAD', 'Base', str(duration_gap_2[8])]\n",
    "row_11 = ['2022-12-13', 'BS2', 'CAD', 'Base', str(duration_gap_2[9])]\n",
    "\n",
    "# Put the rows into a table, where table here is a list of lists\n",
    "table_2 = [row_1, row_2, row_3, row_4, row_5, row_6, row_7, row_8, row_9, row_10, row_11]"
   ]
  },
  {
   "cell_type": "code",
   "execution_count": 25,
   "metadata": {},
   "outputs": [
    {
     "name": "stdout",
     "output_type": "stream",
     "text": [
      "╒════════════╤═════════════════╤════════════╤════════════╤════════════════╕\n",
      "│ tsim       │ Balance Sheet   │ Currency   │ Scenerio   │   Duration Gap │\n",
      "╞════════════╪═════════════════╪════════════╪════════════╪════════════════╡\n",
      "│ 2022-03-18 │ BS2             │ CAD        │ Base       │        1.76306 │\n",
      "├────────────┼─────────────────┼────────────┼────────────┼────────────────┤\n",
      "│ 2022-04-17 │ BS2             │ CAD        │ Base       │        1.82621 │\n",
      "├────────────┼─────────────────┼────────────┼────────────┼────────────────┤\n",
      "│ 2022-05-17 │ BS2             │ CAD        │ Base       │        1.76114 │\n",
      "├────────────┼─────────────────┼────────────┼────────────┼────────────────┤\n",
      "│ 2022-06-16 │ BS2             │ CAD        │ Base       │        1.72168 │\n",
      "├────────────┼─────────────────┼────────────┼────────────┼────────────────┤\n",
      "│ 2022-07-16 │ BS2             │ CAD        │ Base       │        1.68506 │\n",
      "├────────────┼─────────────────┼────────────┼────────────┼────────────────┤\n",
      "│ 2022-08-15 │ BS2             │ CAD        │ Base       │        1.63684 │\n",
      "├────────────┼─────────────────┼────────────┼────────────┼────────────────┤\n",
      "│ 2022-09-14 │ BS2             │ CAD        │ Base       │        1.62678 │\n",
      "├────────────┼─────────────────┼────────────┼────────────┼────────────────┤\n",
      "│ 2022-10-14 │ BS2             │ CAD        │ Base       │        1.59437 │\n",
      "├────────────┼─────────────────┼────────────┼────────────┼────────────────┤\n",
      "│ 2022-11-13 │ BS2             │ CAD        │ Base       │        1.54038 │\n",
      "├────────────┼─────────────────┼────────────┼────────────┼────────────────┤\n",
      "│ 2022-12-13 │ BS2             │ CAD        │ Base       │        1.49435 │\n",
      "╘════════════╧═════════════════╧════════════╧════════════╧════════════════╛\n"
     ]
    }
   ],
   "source": [
    "# Print the table\n",
    "print(tabulate(table_2, headers='firstrow', tablefmt='fancy_grid'))"
   ]
  },
  {
   "cell_type": "markdown",
   "metadata": {},
   "source": [
    "## Duration Gap of Balance Sheet 3"
   ]
  },
  {
   "cell_type": "markdown",
   "metadata": {},
   "source": [
    "### Set the Base Currency"
   ]
  },
  {
   "cell_type": "code",
   "execution_count": 34,
   "metadata": {},
   "outputs": [],
   "source": [
    "# Set to_curr as the base currency used in BS3\n",
    "# Define the terms used in fxmodule\n",
    "to_curr_3 = \"GBP\"\n",
    "t1 = session_date\n",
    "csv_df = pd.read_csv('/Users/stephxtchan/ECO421/A2/SpotFXFile.csv')\n",
    "fx_obj = fx.FXClass(csv_df)"
   ]
  },
  {
   "cell_type": "markdown",
   "metadata": {},
   "source": [
    "### Calculate the Duration Gap for Each tsim"
   ]
  },
  {
   "cell_type": "code",
   "execution_count": 35,
   "metadata": {},
   "outputs": [
    {
     "name": "stdout",
     "output_type": "stream",
     "text": [
      "[3.0990605542330285]\n",
      "[3.0990605542330285, 3.087634287829083]\n",
      "[3.0990605542330285, 3.087634287829083, 3.0401952684467894]\n",
      "[3.0990605542330285, 3.087634287829083, 3.0401952684467894, 2.989358939351792]\n",
      "[3.0990605542330285, 3.087634287829083, 3.0401952684467894, 2.989358939351792, 2.9478597263299733]\n",
      "[3.0990605542330285, 3.087634287829083, 3.0401952684467894, 2.989358939351792, 2.9478597263299733, 2.833578883239434]\n"
     ]
    }
   ],
   "source": [
    "duration_gap_3 = []\n",
    "\n",
    "#since there are some major errors to run corefunction for tsim = 2022-09-14\n",
    "#Professor Yang states that we can exclude 2022-09-14 and the tsim beyond this date in our calculation\n",
    "for i in range(0, 6): \n",
    "    \n",
    "    # Create a dictionary that links each bonds' asset values with bond id for bonds in BS3\n",
    "    asset_value_3 = {}\n",
    "    for id in asset_3:\n",
    "        bond_obj = bd.BondClass(id, 'bondmkt', xls)\n",
    "        bond_obj.position_unit = asset_3[id]\n",
    "        # find the foreign exchange rate for each bonds' currency to the base currency, which is GBP in BS3\n",
    "        fx_rate = fx_obj.spot_fx(from_curr[id], to_curr_3)\n",
    "        bond_obj.state_procedure()\n",
    "        \n",
    "        # find each asset values in GBP\n",
    "        asset_value_3[id]= bond_obj.theo_value_scen(n[i], scen_df, row) * fx_rate\n",
    "        \n",
    "        # calculate the total market value of assets\n",
    "        sum_asset_value_3 = sum(asset_value_3.values())\n",
    "        \n",
    "    # Create a dictionary that links each bonds' liability values with bond id for bonds in BS3\n",
    "    liability_value_3 = {}\n",
    "    for id in liability_3:\n",
    "        bond_obj = bd.BondClass(id, 'bondmkt', xls)\n",
    "        bond_obj.position_unit = liability_3[id]\n",
    "        bond_obj.state_procedure()\n",
    "        \n",
    "        # find the foreign exchange rate for each bonds' currency to the base currency, which is GBP in BS3\n",
    "        fx_rate = fx_obj.spot_fx(from_curr[id], to_curr_3)\n",
    "        \n",
    "        # find each liability values in GBP\n",
    "        liability_value_3[id]= bond_obj.theo_value_scen(n[i], scen_df, row) * fx_rate\n",
    "        \n",
    "    # calculate the total market value of liabilities\n",
    "    sum_liability_value_3 = sum(liability_value_3.values())\n",
    "    \n",
    "    # create a dictionary that stores the asset duration\n",
    "    dur_asset_3 = {}\n",
    "    for id in asset_3:\n",
    "        bond_obj = bd.BondClass(id, 'bondmkt', xls)\n",
    "        bond_obj.position_unit = asset_3[id]\n",
    "        dur_asset_3[id] = alm.modified_duration(co.add_terms(session_date, n[i], \"days\"), bond_obj, kth_scen_dict)\n",
    "\n",
    "    # create a dictionary that stores the liability duration\n",
    "    dur_liab_3 = {}\n",
    "    for id in liability_3:\n",
    "        bond_obj = bd.BondClass(id, 'bondmkt', xls)\n",
    "        bond_obj.position_unit = liability_3[id]\n",
    "        dur_liab_3[id]= alm.modified_duration(co.add_terms(session_date, n[i], \"days\"), bond_obj, kth_scen_dict)\n",
    "\n",
    "    # create a dictionary that stores the market value of the ith position divided by total market value of assets\n",
    "    asset_weighted_duration_3 = {}\n",
    "    for id in asset_value_3:\n",
    "        if str(dur_asset_3[id]) != 'nan':\n",
    "            asset_weighted_duration_3[id] = dur_asset_3[id] * asset_value_3[id] / sum_asset_value_3\n",
    "        else:\n",
    "            asset_weighted_duration_3[id] = 0\n",
    "                \n",
    "    # Find the duration of total asset\n",
    "    asset_duration_3 = sum(asset_weighted_duration_3.values())\n",
    "    \n",
    "    # create a dictionary that stores the market value of the ith position divided by total market value of liabilities\n",
    "    liab_weighted_duration_3 = {}\n",
    "    for id in liability_3:\n",
    "        if str(dur_liab_3[id]) != \"nan\":\n",
    "            liab_weighted_duration_3[id] = dur_liab_3[id] * liability_value_3[id] / sum_liability_value_3\n",
    "        else:\n",
    "            liab_weighted_duration_3[id] = 0\n",
    "            \n",
    "    # find the duration of total liability\n",
    "    liability_duration_3 = sum(liab_weighted_duration_3.values())\n",
    "    \n",
    "    # find The Duration Gap and store the value to duration_gap list\n",
    "    duration_gap_3.append(asset_duration_3 - (sum_liability_value_3/sum_asset_value_3) * liability_duration_3)"
   ]
  },
  {
   "cell_type": "markdown",
   "metadata": {},
   "source": [
    "### Results of Duration Gap of Balance Sheet 3 at Each tsim"
   ]
  },
  {
   "cell_type": "code",
   "execution_count": 37,
   "metadata": {},
   "outputs": [
    {
     "name": "stdout",
     "output_type": "stream",
     "text": [
      "The Duration Gap of Balance Sheet 3 (base currency: GBP) at 2022-03-18 is -1.5486071703342517\n",
      "The Duration Gap of Balance Sheet 3 (base currency: GBP) at 2022-04-17 is -1.6196062071156074\n",
      "The Duration Gap of Balance Sheet 3 (base currency: GBP) at 2022-05-17 is -1.941770773605029\n",
      "The Duration Gap of Balance Sheet 3 (base currency: GBP) at 2022-06-16 is -1.9430133262929155\n",
      "The Duration Gap of Balance Sheet 3 (base currency: GBP) at 2022-07-16 is -1.9552204110449947\n",
      "The Duration Gap of Balance Sheet 3 (base currency: GBP) at 2022-08-15 is -1.9108460689116298\n"
     ]
    }
   ],
   "source": [
    "# print out the result of DGap of BS3\n",
    "print('The Duration Gap of Balance Sheet 3 (base currency: GBP) at 2022-03-18 is ' + str(duration_gap[0]))\n",
    "print('The Duration Gap of Balance Sheet 3 (base currency: GBP) at 2022-04-17 is ' + str(duration_gap[1]))\n",
    "print('The Duration Gap of Balance Sheet 3 (base currency: GBP) at 2022-05-17 is ' + str(duration_gap[2]))\n",
    "print('The Duration Gap of Balance Sheet 3 (base currency: GBP) at 2022-06-16 is ' + str(duration_gap[3]))\n",
    "print('The Duration Gap of Balance Sheet 3 (base currency: GBP) at 2022-07-16 is ' + str(duration_gap[4]))\n",
    "print('The Duration Gap of Balance Sheet 3 (base currency: GBP) at 2022-08-15 is ' + str(duration_gap[5]))"
   ]
  },
  {
   "cell_type": "code",
   "execution_count": 38,
   "metadata": {},
   "outputs": [],
   "source": [
    "# Create a table for the result\n",
    "# Define Each cell of the rows\n",
    "row_1 = ['tsim', 'Balance Sheet', 'Currency', 'Scenerio', 'Duration Gap']\n",
    "row_2 = ['2022-03-18', 'BS3', 'GBP', 'Base', str(duration_gap_3[0])]\n",
    "row_3 = ['2022-04-17', 'BS3', 'GBP', 'Base', str(duration_gap_3[1])]\n",
    "row_4 = ['2022-05-17', 'BS3', 'GBP', 'Base', str(duration_gap_3[2])]\n",
    "row_5 = ['2022-06-16', 'BS3', 'GBP', 'Base', str(duration_gap_3[3])]\n",
    "row_6 = ['2022-07-16', 'BS3', 'GBP', 'Base', str(duration_gap_3[4])]\n",
    "row_7 = ['2022-08-15', 'BS3', 'GBP', 'Base', str(duration_gap_3[5])]\n",
    "\n",
    "\n",
    "# Put the rows into a table, where table here is a list of lists\n",
    "table_3 = [row_1, row_2, row_3, row_4, row_5, row_6, row_7]"
   ]
  },
  {
   "cell_type": "code",
   "execution_count": 39,
   "metadata": {},
   "outputs": [
    {
     "name": "stdout",
     "output_type": "stream",
     "text": [
      "╒════════════╤═════════════════╤════════════╤════════════╤════════════════╕\n",
      "│ tsim       │ Balance Sheet   │ Currency   │ Scenerio   │   Duration Gap │\n",
      "╞════════════╪═════════════════╪════════════╪════════════╪════════════════╡\n",
      "│ 2022-03-18 │ BS3             │ GBP        │ Base       │        3.09906 │\n",
      "├────────────┼─────────────────┼────────────┼────────────┼────────────────┤\n",
      "│ 2022-04-17 │ BS3             │ GBP        │ Base       │        3.08763 │\n",
      "├────────────┼─────────────────┼────────────┼────────────┼────────────────┤\n",
      "│ 2022-05-17 │ BS3             │ GBP        │ Base       │        3.0402  │\n",
      "├────────────┼─────────────────┼────────────┼────────────┼────────────────┤\n",
      "│ 2022-06-16 │ BS3             │ GBP        │ Base       │        2.98936 │\n",
      "├────────────┼─────────────────┼────────────┼────────────┼────────────────┤\n",
      "│ 2022-07-16 │ BS3             │ GBP        │ Base       │        2.94786 │\n",
      "├────────────┼─────────────────┼────────────┼────────────┼────────────────┤\n",
      "│ 2022-08-15 │ BS3             │ GBP        │ Base       │        2.83358 │\n",
      "╘════════════╧═════════════════╧════════════╧════════════╧════════════════╛\n"
     ]
    }
   ],
   "source": [
    "# Print the table\n",
    "print(tabulate(table_3, headers='firstrow', tablefmt='fancy_grid'))"
   ]
  }
 ],
 "metadata": {
  "kernelspec": {
   "display_name": "Python 3",
   "language": "python",
   "name": "python3"
  },
  "language_info": {
   "codemirror_mode": {
    "name": "ipython",
    "version": 3
   },
   "file_extension": ".py",
   "mimetype": "text/x-python",
   "name": "python",
   "nbconvert_exporter": "python",
   "pygments_lexer": "ipython3",
   "version": "3.8.5"
  }
 },
 "nbformat": 4,
 "nbformat_minor": 4
}

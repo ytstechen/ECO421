{
 "cells": [
  {
   "cell_type": "code",
   "execution_count": 1,
   "metadata": {},
   "outputs": [],
   "source": [
    "import pandas as pd\n",
    "import math\n",
    "import scipy\n",
    "\n",
    "import datetime\n",
    "from datetime import date\n",
    "\n",
    "import corefunctions as co\n",
    "\n",
    "import fxmodule as fx\n",
    "from fxmodule import FXClass\n",
    "\n",
    "import curvemodule610 as cm\n",
    "from curvemodule610 import CurveClass\n",
    "\n",
    "# import varmodule\n",
    "# from varmodule import var_ir_var_maps\n",
    "\n",
    "import fxfwdmordule640 as im\n"
   ]
  },
  {
   "cell_type": "markdown",
   "metadata": {},
   "source": [
    "# Loading Termsheets"
   ]
  },
  {
   "cell_type": "code",
   "execution_count": 2,
   "metadata": {},
   "outputs": [],
   "source": [
    "# use !pwd to print the current working directory"
   ]
  },
  {
   "cell_type": "code",
   "execution_count": 3,
   "metadata": {},
   "outputs": [],
   "source": [
    "# read the termsheets excel file and store the values under the name xls\n",
    "xls = pd.ExcelFile('/Users/stephxtchan/ECO421/a3/termsheets.xlsx')\n",
    "\n",
    "# create a list that stores the FX forward sheets names\n",
    "inst_file = ['CADGBP FX Fwd', 'CADUSD FX Fwd', 'USDEUR FX Fwd', 'EURCAD FX Fwd', 'GBPEUR FX Fwd']"
   ]
  },
  {
   "cell_type": "code",
   "execution_count": 4,
   "metadata": {},
   "outputs": [],
   "source": [
    "# Export all FX forward sheets\n",
    "sh_df_1= pd.read_excel(xls, sheet_name = inst_file[0])\n",
    "sh_df_2= pd.read_excel(xls, sheet_name=inst_file[1])\n",
    "sh_df_3= pd.read_excel(xls, sheet_name=inst_file[2])\n",
    "sh_df_4= pd.read_excel(xls, sheet_name=inst_file[3])\n",
    "sh_df_5= pd.read_excel(xls, sheet_name=inst_file[4])"
   ]
  },
  {
   "cell_type": "code",
   "execution_count": 5,
   "metadata": {},
   "outputs": [
    {
     "data": {
      "text/html": [
       "<div>\n",
       "<style scoped>\n",
       "    .dataframe tbody tr th:only-of-type {\n",
       "        vertical-align: middle;\n",
       "    }\n",
       "\n",
       "    .dataframe tbody tr th {\n",
       "        vertical-align: top;\n",
       "    }\n",
       "\n",
       "    .dataframe thead th {\n",
       "        text-align: right;\n",
       "    }\n",
       "</style>\n",
       "<table border=\"1\" class=\"dataframe\">\n",
       "  <thead>\n",
       "    <tr style=\"text-align: right;\">\n",
       "      <th></th>\n",
       "      <th>FX Forward</th>\n",
       "      <th>Attribute</th>\n",
       "      <th>Unnamed: 2</th>\n",
       "    </tr>\n",
       "  </thead>\n",
       "  <tbody>\n",
       "    <tr>\n",
       "      <th>0</th>\n",
       "      <td>Name</td>\n",
       "      <td>CADGBP FX Fwd</td>\n",
       "      <td>NaN</td>\n",
       "    </tr>\n",
       "    <tr>\n",
       "      <th>1</th>\n",
       "      <td>POS Units</td>\n",
       "      <td>1</td>\n",
       "      <td>NaN</td>\n",
       "    </tr>\n",
       "    <tr>\n",
       "      <th>2</th>\n",
       "      <td>Contract Size</td>\n",
       "      <td>1</td>\n",
       "      <td>NaN</td>\n",
       "    </tr>\n",
       "    <tr>\n",
       "      <th>3</th>\n",
       "      <td>Type</td>\n",
       "      <td>FXForward</td>\n",
       "      <td>NaN</td>\n",
       "    </tr>\n",
       "    <tr>\n",
       "      <th>4</th>\n",
       "      <td>Effective Date</td>\n",
       "      <td>0</td>\n",
       "      <td>NaN</td>\n",
       "    </tr>\n",
       "  </tbody>\n",
       "</table>\n",
       "</div>"
      ],
      "text/plain": [
       "       FX Forward      Attribute Unnamed: 2\n",
       "0            Name  CADGBP FX Fwd        NaN\n",
       "1       POS Units              1        NaN\n",
       "2   Contract Size              1        NaN\n",
       "3            Type      FXForward        NaN\n",
       "4  Effective Date              0        NaN"
      ]
     },
     "execution_count": 5,
     "metadata": {},
     "output_type": "execute_result"
    }
   ],
   "source": [
    "sh_df_1.head()"
   ]
  },
  {
   "cell_type": "code",
   "execution_count": 6,
   "metadata": {},
   "outputs": [
    {
     "data": {
      "text/html": [
       "<div>\n",
       "<style scoped>\n",
       "    .dataframe tbody tr th:only-of-type {\n",
       "        vertical-align: middle;\n",
       "    }\n",
       "\n",
       "    .dataframe tbody tr th {\n",
       "        vertical-align: top;\n",
       "    }\n",
       "\n",
       "    .dataframe thead th {\n",
       "        text-align: right;\n",
       "    }\n",
       "</style>\n",
       "<table border=\"1\" class=\"dataframe\">\n",
       "  <thead>\n",
       "    <tr style=\"text-align: right;\">\n",
       "      <th></th>\n",
       "      <th>FX Forward</th>\n",
       "      <th>Attribute</th>\n",
       "      <th>Unnamed: 2</th>\n",
       "    </tr>\n",
       "  </thead>\n",
       "  <tbody>\n",
       "    <tr>\n",
       "      <th>0</th>\n",
       "      <td>Name</td>\n",
       "      <td>CADUSD FX Fwd</td>\n",
       "      <td>NaN</td>\n",
       "    </tr>\n",
       "    <tr>\n",
       "      <th>1</th>\n",
       "      <td>POS Units</td>\n",
       "      <td>1</td>\n",
       "      <td>NaN</td>\n",
       "    </tr>\n",
       "    <tr>\n",
       "      <th>2</th>\n",
       "      <td>Contract Size</td>\n",
       "      <td>1</td>\n",
       "      <td>NaN</td>\n",
       "    </tr>\n",
       "    <tr>\n",
       "      <th>3</th>\n",
       "      <td>Type</td>\n",
       "      <td>FXForward</td>\n",
       "      <td>NaN</td>\n",
       "    </tr>\n",
       "    <tr>\n",
       "      <th>4</th>\n",
       "      <td>Effective Date</td>\n",
       "      <td>0</td>\n",
       "      <td>NaN</td>\n",
       "    </tr>\n",
       "  </tbody>\n",
       "</table>\n",
       "</div>"
      ],
      "text/plain": [
       "       FX Forward      Attribute Unnamed: 2\n",
       "0            Name  CADUSD FX Fwd        NaN\n",
       "1       POS Units              1        NaN\n",
       "2   Contract Size              1        NaN\n",
       "3            Type      FXForward        NaN\n",
       "4  Effective Date              0        NaN"
      ]
     },
     "execution_count": 6,
     "metadata": {},
     "output_type": "execute_result"
    }
   ],
   "source": [
    "sh_df_2.head()"
   ]
  },
  {
   "cell_type": "code",
   "execution_count": 7,
   "metadata": {},
   "outputs": [
    {
     "data": {
      "text/html": [
       "<div>\n",
       "<style scoped>\n",
       "    .dataframe tbody tr th:only-of-type {\n",
       "        vertical-align: middle;\n",
       "    }\n",
       "\n",
       "    .dataframe tbody tr th {\n",
       "        vertical-align: top;\n",
       "    }\n",
       "\n",
       "    .dataframe thead th {\n",
       "        text-align: right;\n",
       "    }\n",
       "</style>\n",
       "<table border=\"1\" class=\"dataframe\">\n",
       "  <thead>\n",
       "    <tr style=\"text-align: right;\">\n",
       "      <th></th>\n",
       "      <th>FX Forward</th>\n",
       "      <th>Attribute</th>\n",
       "      <th>Unnamed: 2</th>\n",
       "    </tr>\n",
       "  </thead>\n",
       "  <tbody>\n",
       "    <tr>\n",
       "      <th>0</th>\n",
       "      <td>Name</td>\n",
       "      <td>USDEUR FX Fwd</td>\n",
       "      <td>NaN</td>\n",
       "    </tr>\n",
       "    <tr>\n",
       "      <th>1</th>\n",
       "      <td>POS Units</td>\n",
       "      <td>1</td>\n",
       "      <td>NaN</td>\n",
       "    </tr>\n",
       "    <tr>\n",
       "      <th>2</th>\n",
       "      <td>Contract Size</td>\n",
       "      <td>1</td>\n",
       "      <td>NaN</td>\n",
       "    </tr>\n",
       "    <tr>\n",
       "      <th>3</th>\n",
       "      <td>Type</td>\n",
       "      <td>FXForward</td>\n",
       "      <td>NaN</td>\n",
       "    </tr>\n",
       "    <tr>\n",
       "      <th>4</th>\n",
       "      <td>Effective Date</td>\n",
       "      <td>0</td>\n",
       "      <td>NaN</td>\n",
       "    </tr>\n",
       "  </tbody>\n",
       "</table>\n",
       "</div>"
      ],
      "text/plain": [
       "       FX Forward      Attribute Unnamed: 2\n",
       "0            Name  USDEUR FX Fwd        NaN\n",
       "1       POS Units              1        NaN\n",
       "2   Contract Size              1        NaN\n",
       "3            Type      FXForward        NaN\n",
       "4  Effective Date              0        NaN"
      ]
     },
     "execution_count": 7,
     "metadata": {},
     "output_type": "execute_result"
    }
   ],
   "source": [
    "sh_df_3.head()"
   ]
  },
  {
   "cell_type": "code",
   "execution_count": 8,
   "metadata": {},
   "outputs": [
    {
     "data": {
      "text/html": [
       "<div>\n",
       "<style scoped>\n",
       "    .dataframe tbody tr th:only-of-type {\n",
       "        vertical-align: middle;\n",
       "    }\n",
       "\n",
       "    .dataframe tbody tr th {\n",
       "        vertical-align: top;\n",
       "    }\n",
       "\n",
       "    .dataframe thead th {\n",
       "        text-align: right;\n",
       "    }\n",
       "</style>\n",
       "<table border=\"1\" class=\"dataframe\">\n",
       "  <thead>\n",
       "    <tr style=\"text-align: right;\">\n",
       "      <th></th>\n",
       "      <th>FX Forward</th>\n",
       "      <th>Attribute</th>\n",
       "      <th>Unnamed: 2</th>\n",
       "    </tr>\n",
       "  </thead>\n",
       "  <tbody>\n",
       "    <tr>\n",
       "      <th>0</th>\n",
       "      <td>Name</td>\n",
       "      <td>EURCAD FX Fwd</td>\n",
       "      <td>NaN</td>\n",
       "    </tr>\n",
       "    <tr>\n",
       "      <th>1</th>\n",
       "      <td>POS Units</td>\n",
       "      <td>1</td>\n",
       "      <td>NaN</td>\n",
       "    </tr>\n",
       "    <tr>\n",
       "      <th>2</th>\n",
       "      <td>Contract Size</td>\n",
       "      <td>1</td>\n",
       "      <td>NaN</td>\n",
       "    </tr>\n",
       "    <tr>\n",
       "      <th>3</th>\n",
       "      <td>Type</td>\n",
       "      <td>FXForward</td>\n",
       "      <td>NaN</td>\n",
       "    </tr>\n",
       "    <tr>\n",
       "      <th>4</th>\n",
       "      <td>Effective Date</td>\n",
       "      <td>0</td>\n",
       "      <td>NaN</td>\n",
       "    </tr>\n",
       "  </tbody>\n",
       "</table>\n",
       "</div>"
      ],
      "text/plain": [
       "       FX Forward      Attribute Unnamed: 2\n",
       "0            Name  EURCAD FX Fwd        NaN\n",
       "1       POS Units              1        NaN\n",
       "2   Contract Size              1        NaN\n",
       "3            Type      FXForward        NaN\n",
       "4  Effective Date              0        NaN"
      ]
     },
     "execution_count": 8,
     "metadata": {},
     "output_type": "execute_result"
    }
   ],
   "source": [
    "sh_df_4.head()"
   ]
  },
  {
   "cell_type": "code",
   "execution_count": 9,
   "metadata": {},
   "outputs": [
    {
     "data": {
      "text/html": [
       "<div>\n",
       "<style scoped>\n",
       "    .dataframe tbody tr th:only-of-type {\n",
       "        vertical-align: middle;\n",
       "    }\n",
       "\n",
       "    .dataframe tbody tr th {\n",
       "        vertical-align: top;\n",
       "    }\n",
       "\n",
       "    .dataframe thead th {\n",
       "        text-align: right;\n",
       "    }\n",
       "</style>\n",
       "<table border=\"1\" class=\"dataframe\">\n",
       "  <thead>\n",
       "    <tr style=\"text-align: right;\">\n",
       "      <th></th>\n",
       "      <th>FX Forward</th>\n",
       "      <th>Attribute</th>\n",
       "      <th>Unnamed: 2</th>\n",
       "    </tr>\n",
       "  </thead>\n",
       "  <tbody>\n",
       "    <tr>\n",
       "      <th>0</th>\n",
       "      <td>Name</td>\n",
       "      <td>GBPEUR FX Fwd</td>\n",
       "      <td>NaN</td>\n",
       "    </tr>\n",
       "    <tr>\n",
       "      <th>1</th>\n",
       "      <td>POS Units</td>\n",
       "      <td>1</td>\n",
       "      <td>NaN</td>\n",
       "    </tr>\n",
       "    <tr>\n",
       "      <th>2</th>\n",
       "      <td>Contract Size</td>\n",
       "      <td>1</td>\n",
       "      <td>NaN</td>\n",
       "    </tr>\n",
       "    <tr>\n",
       "      <th>3</th>\n",
       "      <td>Type</td>\n",
       "      <td>FXForward</td>\n",
       "      <td>NaN</td>\n",
       "    </tr>\n",
       "    <tr>\n",
       "      <th>4</th>\n",
       "      <td>Effective Date</td>\n",
       "      <td>0</td>\n",
       "      <td>NaN</td>\n",
       "    </tr>\n",
       "  </tbody>\n",
       "</table>\n",
       "</div>"
      ],
      "text/plain": [
       "       FX Forward      Attribute Unnamed: 2\n",
       "0            Name  GBPEUR FX Fwd        NaN\n",
       "1       POS Units              1        NaN\n",
       "2   Contract Size              1        NaN\n",
       "3            Type      FXForward        NaN\n",
       "4  Effective Date              0        NaN"
      ]
     },
     "execution_count": 9,
     "metadata": {},
     "output_type": "execute_result"
    }
   ],
   "source": [
    "sh_df_5.head()"
   ]
  },
  {
   "cell_type": "markdown",
   "metadata": {},
   "source": [
    "# Input Position (Choose the FX Fwd Spreadsheet)"
   ]
  },
  {
   "cell_type": "code",
   "execution_count": 11,
   "metadata": {},
   "outputs": [
    {
     "name": "stdout",
     "output_type": "stream",
     "text": [
      "['CADGBP FX Fwd', 'CADUSD FX Fwd', 'USDEUR FX Fwd', 'EURCAD FX Fwd', 'GBPEUR FX Fwd']\n"
     ]
    }
   ],
   "source": [
    "# print the names of the FX Fwd Spreadsheet\n",
    "print(inst_file)"
   ]
  },
  {
   "cell_type": "code",
   "execution_count": 18,
   "metadata": {},
   "outputs": [
    {
     "name": "stdout",
     "output_type": "stream",
     "text": [
      "please input the index of wanted position listed above (in inst_file) 1\n"
     ]
    }
   ],
   "source": [
    "# Create a user input for the position wanted\n",
    "pos = int(input('please input the index of wanted position listed above (in inst_file) '))\n",
    "\n",
    "# If put 0, you are looking at CADGBP FX Fwd\n",
    "# If put 1, you are looking at CADUSD FX Fwd\n",
    "# If put 2, you are looking at USDEUR FX Fwd\n",
    "# If put 3, you are looking at EURCAD FX Fwd\n",
    "# If put 4, you are looking at GBPEUR FX Fwd"
   ]
  },
  {
   "cell_type": "markdown",
   "metadata": {},
   "source": [
    "# Export Corresponding FX Fwd Theo Value and FX VaR map"
   ]
  },
  {
   "cell_type": "code",
   "execution_count": 19,
   "metadata": {},
   "outputs": [
    {
     "name": "stdout",
     "output_type": "stream",
     "text": [
      "FX Fwd: CADUSD FX Fwd Theo/Value under Base scenario = 0.34308280173247785\n",
      "in fx fwd class: fm_curr=USD, to_curr=CAD\n",
      "FX Fwd: CADUSD FX Fwd Theo/Value under scenario 5 = 0.3435327656231352\n",
      "FX Fwd: CADUSD FX Fwd VaR Maps = 1.0218630416204193\n"
     ]
    }
   ],
   "source": [
    "if pos in range(0,5): # There are only 5 spreadsheet\n",
    "    rnx = im.FXFwdClass(inst_file[pos], xls)\n",
    "    v = rnx.theo_value()\n",
    "    # Print out the Theo_value\n",
    "    print(f'FX Fwd: {inst_file[pos]} Theo/Value under Base scenario = {v}')\n",
    "    \n",
    "    scen_df=pd.read_excel(xls, sheet_name='Scenario')\n",
    "    # scen_df=pd.read_csv('./csv/MCScenario1.csv')\n",
    "    dt=1\n",
    "    k=5\n",
    "    v = rnx.theo_value_scen(dt, scen_df, k)\n",
    "    # Print out the Theo_value under scenario\n",
    "    print(f'FX Fwd: {inst_file[pos]} Theo/Value under scenario {k} = {v}')\n",
    "    \n",
    "    vcv_file='SubVCV3'\n",
    "    vcv_df= pd.read_excel(xls, sheet_name=vcv_file)\n",
    "    \n",
    "    fx_maps={}\n",
    "    fx_maps=rnx.var_map_calculation()\n",
    "    # Print out the corresponding FX VaR Map\n",
    "    print(f'FX Fwd: {inst_file[pos]} VaR Maps = {fx_maps}')\n",
    "\n",
    "else:\n",
    "    print('Input spreadsheet does not exist')"
   ]
  },
  {
   "cell_type": "code",
   "execution_count": null,
   "metadata": {},
   "outputs": [],
   "source": []
  }
 ],
 "metadata": {
  "kernelspec": {
   "display_name": "Python 3",
   "language": "python",
   "name": "python3"
  },
  "language_info": {
   "codemirror_mode": {
    "name": "ipython",
    "version": 3
   },
   "file_extension": ".py",
   "mimetype": "text/x-python",
   "name": "python",
   "nbconvert_exporter": "python",
   "pygments_lexer": "ipython3",
   "version": "3.8.5"
  }
 },
 "nbformat": 4,
 "nbformat_minor": 5
}
